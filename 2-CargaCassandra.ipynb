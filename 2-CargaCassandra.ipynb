{
 "cells": [
  {
   "cell_type": "code",
   "execution_count": null,
   "id": "337a526c-7a4d-4a02-bea1-f85f6ab32a6a",
   "metadata": {},
   "outputs": [],
   "source": [
    "from pyspark.sql import SparkSession\n",
    "from pyspark.sql.functions import *"
   ]
  },
  {
   "cell_type": "code",
   "execution_count": null,
   "id": "24943618-c0b2-47c7-ae8f-8927756eb803",
   "metadata": {},
   "outputs": [],
   "source": [
    "spark = SparkSession\\\n",
    "    .builder\\\n",
    "    .appName(\"Spark Exploration App\")\\\n",
    "    .config(\"spark.jars.packages\", \"com.datastax.spark:spark-cassandra-connector_2.12:3.1.0\")\\\n",
    "    .config(\"spark.sql.extensions\",\"com.datastax.spark.connector.CassandraSparkExtensions\") \\\n",
    "    .config(\"spark.cassandra.connection.host\",\"10.128.0.9\") \\\n",
    "    .config(\"spark.cassandra.connection.port\",\"9042\") \\\n",
    "    .config(\"spark.cassandra.output.batch.grouping.buffer.size\", \"3000\") \\\n",
    "    .config(\"spark.cassandra.output.concurrent.writes\", \"1500\") \\\n",
    "    .config(\"cassandra.output.throughput_mb_per_sec\", \"128\") \\\n",
    "    .config(\"spark.cassandra.output.batch.size.bytes\", \"2056\") \\\n",
    "    .config(\"cassandra.connection.keep_alive_ms\", \"30000\") \\\n",
    "    .getOrCreate()\n",
    "spark"
   ]
  },
  {
   "cell_type": "code",
   "execution_count": null,
   "id": "7906491f-8853-4548-a27a-efb376366dbf",
   "metadata": {},
   "outputs": [],
   "source": [
    "keyspace = \"telecomunicacao\""
   ]
  },
  {
   "cell_type": "code",
   "execution_count": null,
   "id": "19d5b6fb-3dd2-4086-9d26-2b80b2aec28d",
   "metadata": {},
   "outputs": [],
   "source": [
    "def loadData(table: str):\n",
    "    df = spark.read \\\n",
    "        .format(\"org.apache.spark.sql.cassandra\") \\\n",
    "        .option(\"keyspace\", keyspace) \\\n",
    "        .option(\"table\", table) \\\n",
    "        .load()\n",
    "    return df"
   ]
  },
  {
   "cell_type": "code",
   "execution_count": null,
   "id": "21c192d5-f914-464a-ac84-6d41b079d18a",
   "metadata": {},
   "outputs": [],
   "source": [
    "def saveData(df, table:str):\n",
    "    df.write \\\n",
    "        .format(\"org.apache.spark.sql.cassandra\") \\\n",
    "        .option(\"keyspace\", keyspace) \\\n",
    "        .option(\"table\", table) \\\n",
    "        .mode('append') \\\n",
    "        .save()"
   ]
  },
  {
   "cell_type": "markdown",
   "id": "9ec0a062-41fc-4b3d-972a-5d8d07700dc4",
   "metadata": {},
   "source": [
    "#### # 1. Carregamos os dados anteriormente tratados do nosso **bucket**"
   ]
  },
  {
   "cell_type": "code",
   "execution_count": 6,
   "id": "3ccd2afa-e03b-43c8-af98-cd57421632d0",
   "metadata": {},
   "outputs": [
    {
     "name": "stderr",
     "output_type": "stream",
     "text": [
      "                                                                                \r"
     ]
    },
    {
     "name": "stdout",
     "output_type": "stream",
     "text": [
      "root\n",
      " |-- ano: integer (nullable = true)\n",
      " |-- operadora: string (nullable = true)\n",
      " |-- tecnologia: string (nullable = true)\n",
      " |-- setor: string (nullable = true)\n",
      " |-- cod_uf: integer (nullable = true)\n",
      " |-- cod_municipio: integer (nullable = true)\n",
      " |-- uf: string (nullable = true)\n",
      " |-- regiao: string (nullable = true)\n",
      " |-- domicilios: integer (nullable = true)\n",
      " |-- moradores: integer (nullable = true)\n",
      " |-- percentual_cobertura: string (nullable = true)\n",
      "\n"
     ]
    }
   ],
   "source": [
    "dfCobertura = spark.read.parquet('gs://parquetcassandranatalsoul/Cobertura')\n",
    "dfCobertura.printSchema()"
   ]
  },
  {
   "cell_type": "code",
   "execution_count": 7,
   "id": "8addc454-9ac1-4bbc-95f1-8ac72e1a9181",
   "metadata": {},
   "outputs": [
    {
     "name": "stderr",
     "output_type": "stream",
     "text": [
      "[Stage 1:>                                                          (0 + 1) / 1]\r"
     ]
    },
    {
     "name": "stdout",
     "output_type": "stream",
     "text": [
      "root\n",
      " |-- ano: integer (nullable = true)\n",
      " |-- mes: integer (nullable = true)\n",
      " |-- uf: string (nullable = true)\n",
      " |-- cidade: string (nullable = true)\n",
      " |-- cod_municipio: integer (nullable = true)\n",
      " |-- canal: string (nullable = true)\n",
      " |-- marca: string (nullable = true)\n",
      " |-- assunto: string (nullable = true)\n",
      "\n"
     ]
    },
    {
     "name": "stderr",
     "output_type": "stream",
     "text": [
      "                                                                                \r"
     ]
    }
   ],
   "source": [
    "dfReclamacao = spark.read.parquet('gs://parquetcassandranatalsoul/Reclamacao')\n",
    "dfReclamacao.printSchema()"
   ]
  },
  {
   "cell_type": "code",
   "execution_count": 8,
   "id": "87552c64-1b19-4897-bfcd-79190b15fca4",
   "metadata": {},
   "outputs": [
    {
     "name": "stdout",
     "output_type": "stream",
     "text": [
      "root\n",
      " |-- servico: string (nullable = true)\n",
      " |-- empresa: string (nullable = true)\n",
      " |-- ano: integer (nullable = true)\n",
      " |-- uf: string (nullable = true)\n",
      " |-- meta_indicador: string (nullable = true)\n",
      " |-- cumpriu: integer (nullable = true)\n",
      " |-- descumpriu: integer (nullable = true)\n",
      "\n"
     ]
    }
   ],
   "source": [
    "dfQualidade = spark.read.parquet('gs://parquetcassandranatalsoul/Qualidade')\n",
    "dfQualidade.printSchema()"
   ]
  },
  {
   "cell_type": "code",
   "execution_count": null,
   "id": "87aad024-2b97-449e-befb-12b5308ea533",
   "metadata": {},
   "outputs": [],
   "source": [
    "dfDadosibge = spark.read.parquet('gs://parquetcassandranatalsoul/Dados_ibge')\n",
    "dfDadosibge.printSchema()"
   ]
  },
  {
   "cell_type": "markdown",
   "id": "14c95681-5019-4c40-9136-4c141a4dc499",
   "metadata": {},
   "source": [
    "#### # 2. Acrescentamos um campo ***uuid*** e geramos o código para adicionar no cassandra"
   ]
  },
  {
   "cell_type": "code",
   "execution_count": null,
   "id": "edc55e94-0be2-4ccf-bf71-fd2de80021ca",
   "metadata": {},
   "outputs": [],
   "source": [
    "dfCobertura = dfCobertura.withColumn(\"id_cobertura\", expr(\"uuid()\")) # cobertura_operadoras -> id_cobertura\n",
    "dfCobertura.show(1)\n"
   ]
  },
  {
   "cell_type": "code",
   "execution_count": 11,
   "id": "273bd5d3-2524-4a83-b76b-0899798fa639",
   "metadata": {},
   "outputs": [
    {
     "name": "stderr",
     "output_type": "stream",
     "text": [
      "[Stage 5:>                                                          (0 + 1) / 1]\r"
     ]
    },
    {
     "name": "stdout",
     "output_type": "stream",
     "text": [
      "+----+---+---+---------------+-------------+-----------+-----+--------+------------------------------------+\n",
      "|ano |mes|uf |cidade         |cod_municipio|canal      |marca|assunto |id_reclamacao                       |\n",
      "+----+---+---+---------------+-------------+-----------+-----+--------+------------------------------------+\n",
      "|2017|6  |MG |Santa Margarida|57906        |Call Center|CLARO|Cobrança|2614e029-281c-4e58-9e18-01e1935d5abe|\n",
      "+----+---+---+---------------+-------------+-----------+-----+--------+------------------------------------+\n",
      "only showing top 1 row\n",
      "\n"
     ]
    },
    {
     "name": "stderr",
     "output_type": "stream",
     "text": [
      "                                                                                \r"
     ]
    }
   ],
   "source": [
    "dfReclamacao = dfReclamacao.withColumn(\"id_reclamacao\", expr(\"uuid()\")) # reclamacoes -> id_reclamacao\n",
    "dfReclamacao.show(1, truncate=False)"
   ]
  },
  {
   "cell_type": "code",
   "execution_count": 12,
   "id": "e4e5727b-4a84-496c-8aa3-a7b3a33de1b7",
   "metadata": {},
   "outputs": [
    {
     "name": "stderr",
     "output_type": "stream",
     "text": [
      "[Stage 6:>                                                          (0 + 1) / 1]\r"
     ]
    },
    {
     "name": "stdout",
     "output_type": "stream",
     "text": [
      "+---------------+-------+----+---+--------------+-------+----------+------------------------------------+\n",
      "|servico        |empresa|ano |uf |meta_indicador|cumpriu|descumpriu|id_qualidade                        |\n",
      "+---------------+-------+----+---+--------------+-------+----------+------------------------------------+\n",
      "|Telefonia Móvel|TIM    |2018|SP |>= 90%        |0      |1         |9cf16987-526a-4b9b-8b7a-118dd2c21d12|\n",
      "+---------------+-------+----+---+--------------+-------+----------+------------------------------------+\n",
      "only showing top 1 row\n",
      "\n"
     ]
    },
    {
     "name": "stderr",
     "output_type": "stream",
     "text": [
      "                                                                                \r"
     ]
    }
   ],
   "source": [
    "dfQualidade = dfQualidade.withColumn(\"id_qualidade\", expr(\"uuid()\")) # qualidade -> id_qualidade\n",
    "dfQualidade.show(1, truncate=False)"
   ]
  },
  {
   "cell_type": "code",
   "execution_count": 13,
   "id": "c1b17d46-04bf-483b-95cd-b8d810b3113a",
   "metadata": {},
   "outputs": [
    {
     "name": "stderr",
     "output_type": "stream",
     "text": [
      "[Stage 7:>                                                          (0 + 1) / 1]\r"
     ]
    },
    {
     "name": "stdout",
     "output_type": "stream",
     "text": [
      "+--------+---+--------------+---------+----+-------------+------+-------------+------------------------------------+\n",
      "|cod_ibge|uf |nome_municipio|populacao|ano |cod_municipio|cod_uf|pib_municipio|id                                  |\n",
      "+--------+---+--------------+---------+----+-------------+------+-------------+------------------------------------+\n",
      "|3522158 |SP |Itaoca        |3332     |2017|22158        |35    |39835016     |72bd7f0e-9a4f-4c66-a2e5-b4b1df49ead3|\n",
      "+--------+---+--------------+---------+----+-------------+------+-------------+------------------------------------+\n",
      "only showing top 1 row\n",
      "\n"
     ]
    },
    {
     "name": "stderr",
     "output_type": "stream",
     "text": [
      "                                                                                \r"
     ]
    }
   ],
   "source": [
    "dfDadosibge = dfDadosibge.withColumn(\"id\", expr(\"uuid()\")) # dados_ibge -> id\n",
    "dfDadosibge.show(1, truncate=False)"
   ]
  },
  {
   "cell_type": "code",
   "execution_count": 14,
   "id": "a4d4eab1-1ed6-44ce-a76e-315c2a32339d",
   "metadata": {},
   "outputs": [
    {
     "name": "stderr",
     "output_type": "stream",
     "text": [
      "                                                                                \r"
     ]
    }
   ],
   "source": [
    "saveData(dfCobertura,'cobertura_operadoras')"
   ]
  },
  {
   "cell_type": "code",
   "execution_count": null,
   "id": "714510b1-5949-41e3-9e63-638fe6f23609",
   "metadata": {},
   "outputs": [
    {
     "name": "stderr",
     "output_type": "stream",
     "text": [
      "[Stage 9:=============================>                             (1 + 1) / 2]\r"
     ]
    }
   ],
   "source": [
    "saveData(dfReclamacao,'reclamacoes')"
   ]
  },
  {
   "cell_type": "code",
   "execution_count": null,
   "id": "44af7e46-7ce7-4178-80b3-5001b0b9afae",
   "metadata": {},
   "outputs": [
    {
     "name": "stderr",
     "output_type": "stream",
     "text": [
      "[Stage 9:>                                                          (0 + 1) / 1]\r"
     ]
    }
   ],
   "source": [
    "saveData(dfQualidade,'qualidade')"
   ]
  },
  {
   "cell_type": "code",
   "execution_count": 14,
   "id": "fcbdc3d3-e99f-42fc-842b-c4a75307e679",
   "metadata": {},
   "outputs": [
    {
     "name": "stderr",
     "output_type": "stream",
     "text": [
      "                                                                                \r"
     ]
    }
   ],
   "source": [
    "saveData(dfDadosibge,'dados_ibge')"
   ]
  },
  {
   "cell_type": "code",
   "execution_count": null,
   "id": "53a29d8b-bc81-4c40-a759-6ecb69b4b9b0",
   "metadata": {},
   "outputs": [],
   "source": []
  },
  {
   "cell_type": "code",
   "execution_count": null,
   "id": "b63ee250-a944-41b3-ae0d-8473c9d49589",
   "metadata": {},
   "outputs": [],
   "source": []
  },
  {
   "cell_type": "code",
   "execution_count": null,
   "id": "4647fd87-6d2e-4d0e-b0db-c28ce826965c",
   "metadata": {},
   "outputs": [],
   "source": []
  },
  {
   "cell_type": "code",
   "execution_count": null,
   "id": "3cb65c7f-8112-45c9-8474-de86d6df7a82",
   "metadata": {},
   "outputs": [],
   "source": []
  },
  {
   "cell_type": "code",
   "execution_count": null,
   "id": "de17ef0d-4d0e-4c56-9aa2-c05dbb80e285",
   "metadata": {},
   "outputs": [],
   "source": []
  },
  {
   "cell_type": "code",
   "execution_count": null,
   "id": "4b6a1919-a3d3-44a4-8e8b-54c92e94e5ed",
   "metadata": {},
   "outputs": [],
   "source": []
  },
  {
   "cell_type": "code",
   "execution_count": null,
   "id": "61411726-c6f9-442c-aa5a-436eca0ef178",
   "metadata": {},
   "outputs": [],
   "source": []
  },
  {
   "cell_type": "code",
   "execution_count": null,
   "id": "05393e2b-eb6c-488e-9eb8-64d39c45d999",
   "metadata": {},
   "outputs": [],
   "source": []
  }
 ],
 "metadata": {
  "kernelspec": {
   "display_name": "Python 3",
   "language": "python",
   "name": "python3"
  },
  "language_info": {
   "codemirror_mode": {
    "name": "ipython",
    "version": 3
   },
   "file_extension": ".py",
   "mimetype": "text/x-python",
   "name": "python",
   "nbconvert_exporter": "python",
   "pygments_lexer": "ipython3",
   "version": "3.8.12"
  }
 },
 "nbformat": 4,
 "nbformat_minor": 5
}