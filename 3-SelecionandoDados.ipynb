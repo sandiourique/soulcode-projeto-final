{
 "cells": [
  {
   "cell_type": "code",
   "execution_count": 1,
   "id": "13956ab0-f037-444d-bb74-dc3c68badb04",
   "metadata": {},
   "outputs": [
    {
     "name": "stderr",
     "output_type": "stream",
     "text": [
      "Setting default log level to \"WARN\".\n",
      "To adjust logging level use sc.setLogLevel(newLevel). For SparkR, use setLogLevel(newLevel).\n"
     ]
    },
    {
     "data": {
      "text/html": [
       "\n",
       "            <div>\n",
       "                <p><b>SparkSession - hive</b></p>\n",
       "                \n",
       "        <div>\n",
       "            <p><b>SparkContext</b></p>\n",
       "\n",
       "            <p><a href=\"http://cluster-bdea-m.us-central1-a.c.spry-smithy-336012.internal:38019\">Spark UI</a></p>\n",
       "\n",
       "            <dl>\n",
       "              <dt>Version</dt>\n",
       "                <dd><code>v3.1.2</code></dd>\n",
       "              <dt>Master</dt>\n",
       "                <dd><code>yarn</code></dd>\n",
       "              <dt>AppName</dt>\n",
       "                <dd><code>InserindoMysql</code></dd>\n",
       "            </dl>\n",
       "        </div>\n",
       "        \n",
       "            </div>\n",
       "        "
      ],
      "text/plain": [
       "<pyspark.sql.session.SparkSession at 0x7f55e70bab20>"
      ]
     },
     "execution_count": 1,
     "metadata": {},
     "output_type": "execute_result"
    }
   ],
   "source": [
    "from pyspark.sql import SparkSession\n",
    "from pyspark.sql.functions import *\n",
    "from pyspark.sql.types import *\n",
    "spark = SparkSession.builder.appName('InserindoMysql')\\\n",
    ".getOrCreate()\n",
    "spark"
   ]
  },
  {
   "cell_type": "markdown",
   "id": "a7c3e49c-f2ae-4d10-b355-017b7990edf7",
   "metadata": {},
   "source": [
    "# --> Construindo a tabela de PIB/População por estado"
   ]
  },
  {
   "cell_type": "code",
   "execution_count": 7,
   "id": "adccd34e-d673-481e-a736-f8b21ec71638",
   "metadata": {},
   "outputs": [],
   "source": [
    "dados_ibge = spark.read.parquet('gs://parquetcassandranatal/Dados_ibge')"
   ]
  },
  {
   "cell_type": "code",
   "execution_count": 8,
   "id": "bf8c74b3-01c3-4061-b555-133242a64161",
   "metadata": {},
   "outputs": [
    {
     "name": "stdout",
     "output_type": "stream",
     "text": [
      "+--------+---+--------------+---------+----+-------------+------+-------------+\n",
      "|cod_ibge| uf|nome_municipio|populacao| ano|cod_municipio|cod_uf|pib_municipio|\n",
      "+--------+---+--------------+---------+----+-------------+------+-------------+\n",
      "| 1303304| AM| Novo Aripuanã|    26443|2018|         3304|    13|    199377509|\n",
      "| 1303304| AM| Novo Aripuanã|    26443|2017|         3304|    13|    183333826|\n",
      "| 1304260| AM|        Uarini|    13839|2018|         4260|    13|    187766213|\n",
      "+--------+---+--------------+---------+----+-------------+------+-------------+\n",
      "only showing top 3 rows\n",
      "\n"
     ]
    }
   ],
   "source": [
    "dados_ibge.show(3)"
   ]
  },
  {
   "cell_type": "code",
   "execution_count": 9,
   "id": "b558b262-d749-4f44-bb28-2487254d8fcd",
   "metadata": {},
   "outputs": [
    {
     "name": "stdout",
     "output_type": "stream",
     "text": [
      "root\n",
      " |-- cod_ibge: integer (nullable = true)\n",
      " |-- uf: string (nullable = true)\n",
      " |-- nome_municipio: string (nullable = true)\n",
      " |-- populacao: integer (nullable = true)\n",
      " |-- ano: integer (nullable = true)\n",
      " |-- cod_municipio: integer (nullable = true)\n",
      " |-- cod_uf: integer (nullable = true)\n",
      " |-- pib_municipio: long (nullable = true)\n",
      "\n"
     ]
    }
   ],
   "source": [
    "dados_ibge.printSchema()"
   ]
  },
  {
   "cell_type": "code",
   "execution_count": 12,
   "id": "f0a1ba85-cee5-427b-a588-471b7855822e",
   "metadata": {},
   "outputs": [
    {
     "name": "stdout",
     "output_type": "stream",
     "text": [
      "+---+----+-------------+---------+\n",
      "| uf| ano|          pib|populacao|\n",
      "+---+----+-------------+---------+\n",
      "| SP|2017|2120761635108| 46649132|\n",
      "| RJ|2017| 671605668055| 17463349|\n",
      "| MG|2017| 576375544695| 21411923|\n",
      "| RS|2017| 423270047295| 11466630|\n",
      "+---+----+-------------+---------+\n",
      "only showing top 4 rows\n",
      "\n"
     ]
    },
    {
     "name": "stderr",
     "output_type": "stream",
     "text": [
      "                                                                                \r"
     ]
    }
   ],
   "source": [
    "pib17 = dados_ibge.groupBy('uf','ano') \\\n",
    "    .agg(sum('pib_municipio').astype(LongType()).alias('pib'),\n",
    "        sum('populacao').alias('populacao')) \\\n",
    "    .orderBy(col('pib').desc()).filter(col('ano')==2017)\n",
    "pib17.show(4) "
   ]
  },
  {
   "cell_type": "code",
   "execution_count": 13,
   "id": "f2757a56-0cc0-4eff-b02a-d37b341d6a91",
   "metadata": {},
   "outputs": [
    {
     "name": "stdout",
     "output_type": "stream",
     "text": [
      "+---+----+-------------+---------+\n",
      "| uf| ano|          pib|populacao|\n",
      "+---+----+-------------+---------+\n",
      "| SP|2018|2210561949477| 46649132|\n",
      "| RJ|2018| 758859046867| 17463349|\n",
      "| MG|2018| 614875819804| 21411923|\n",
      "| RS|2018| 457293957585| 11466630|\n",
      "+---+----+-------------+---------+\n",
      "only showing top 4 rows\n",
      "\n"
     ]
    },
    {
     "name": "stderr",
     "output_type": "stream",
     "text": [
      "                                                                                \r"
     ]
    }
   ],
   "source": [
    "pib18 = dados_ibge.groupBy('uf','ano') \\\n",
    "    .agg(sum('pib_municipio').astype(LongType()).alias('pib'),\n",
    "        sum('populacao').alias('populacao')) \\\n",
    "    .orderBy(col('pib').desc()).filter(col('ano')==2018)\n",
    "pib18.show(4) "
   ]
  },
  {
   "cell_type": "code",
   "execution_count": 14,
   "id": "7c3f5ab5-7a44-4f34-a619-168606581162",
   "metadata": {},
   "outputs": [
    {
     "name": "stderr",
     "output_type": "stream",
     "text": [
      "                                                                                \r"
     ]
    }
   ],
   "source": [
    "pib17 = pib17.toPandas()"
   ]
  },
  {
   "cell_type": "code",
   "execution_count": 15,
   "id": "60af5336-37a8-4539-805b-127beb8410bc",
   "metadata": {},
   "outputs": [
    {
     "name": "stderr",
     "output_type": "stream",
     "text": [
      "                                                                                \r"
     ]
    }
   ],
   "source": [
    "pib18 = pib18.toPandas()"
   ]
  },
  {
   "cell_type": "code",
   "execution_count": 18,
   "id": "c6daf34f-c09e-48df-ade3-8f2d69a4fb23",
   "metadata": {},
   "outputs": [],
   "source": [
    "pib17.to_parquet('gs://parquetapresentacao/17ibge')\n",
    "pib18.to_parquet('gs://parquetapresentacao/18ibge')"
   ]
  },
  {
   "cell_type": "markdown",
   "id": "1a4417ee-bad0-49f1-9f55-db41d5199f33",
   "metadata": {},
   "source": [
    "# ->  Construindo tabela cobertura por operadora"
   ]
  },
  {
   "cell_type": "code",
   "execution_count": 2,
   "id": "30f6b231-b1ee-497e-87d0-e57d945e0fbf",
   "metadata": {},
   "outputs": [
    {
     "name": "stderr",
     "output_type": "stream",
     "text": [
      "                                                                                \r"
     ]
    }
   ],
   "source": [
    "reclamacao = spark.read.parquet('gs://parquetcassandranatal/Reclamacao')"
   ]
  },
  {
   "cell_type": "code",
   "execution_count": 3,
   "id": "4030a7bd-6901-4739-b9e0-96d9dc5ece58",
   "metadata": {},
   "outputs": [
    {
     "name": "stderr",
     "output_type": "stream",
     "text": [
      "                                                                                \r"
     ]
    },
    {
     "data": {
      "text/plain": [
       "2590318"
      ]
     },
     "execution_count": 3,
     "metadata": {},
     "output_type": "execute_result"
    }
   ],
   "source": [
    "reclamacao.count()"
   ]
  },
  {
   "cell_type": "code",
   "execution_count": 4,
   "id": "f756ea53-4c31-4f8b-a516-5018f67f390d",
   "metadata": {},
   "outputs": [],
   "source": [
    "reclamacao = reclamacao.filter((col('marca')=='CLARO') |\n",
    "                  (col('marca')=='VIVO') |\n",
    "                  (col('marca')=='TIM') |\n",
    "                  (col('marca')=='OI'))"
   ]
  },
  {
   "cell_type": "code",
   "execution_count": 5,
   "id": "97b4dbf2-ff83-421a-aecb-6ffb155fd97d",
   "metadata": {},
   "outputs": [
    {
     "name": "stderr",
     "output_type": "stream",
     "text": [
      "                                                                                \r"
     ]
    }
   ],
   "source": [
    "reclamacao = reclamacao.toPandas()"
   ]
  },
  {
   "cell_type": "code",
   "execution_count": 6,
   "id": "851c912f-43bc-4b9e-b672-7e86a2c50c9d",
   "metadata": {},
   "outputs": [
    {
     "data": {
      "text/plain": [
       "array(['Cobrança', 'Qualidade, Funcionamento e Reparo',\n",
       "       'Oferta, Bônus, Promoções, Mensagens Publicitárias e Mudança de Plano',\n",
       "       'Bloqueio ou Suspensão e Desbloqueio',\n",
       "       'Instalação ou Ativação ou Habilitação', 'Crédito Pré-pago',\n",
       "       'Documento de Cobrança, Contrato, Gravações', 'Cancelamento',\n",
       "       'Ressarcimento', 'Atendimento', 'Mudança de Endereço',\n",
       "       'Portabilidade', 'Dados cadastrais e número da linha',\n",
       "       'Longa Distância/Interurbano',\n",
       "       'Programa Banda Larga nas Escolas (PBLE)', 'Pré-Pago',\n",
       "       'Banda larga - ADSL', 'Pós-Pago', 'NÃO APLICÁVEL', 'TV a Cabo',\n",
       "       'Local', 'Atuação Anatel'], dtype=object)"
      ]
     },
     "execution_count": 6,
     "metadata": {},
     "output_type": "execute_result"
    }
   ],
   "source": [
    "reclamacao['assunto'].unique()"
   ]
  },
  {
   "cell_type": "code",
   "execution_count": 5,
   "id": "c51198fd-f9d2-4595-b3be-8c79d5d3a2ad",
   "metadata": {},
   "outputs": [
    {
     "name": "stderr",
     "output_type": "stream",
     "text": [
      "[Stage 4:>                                                          (0 + 1) / 1]\r"
     ]
    },
    {
     "name": "stdout",
     "output_type": "stream",
     "text": [
      "+----+---+---+--------+-------------+----------------+-----+--------------------+\n",
      "| ano|mes| uf|  cidade|cod_municipio|           canal|marca|             assunto|\n",
      "+----+---+---+--------+-------------+----------------+-----+--------------------+\n",
      "|2018| 12| MG|Pitangui|        51404|     Call Center|  TIM|            Cobrança|\n",
      "|2018| 12| MG|  Piumhi|        51503|     Call Center|   OI|Qualidade, Funcio...|\n",
      "|2018| 12| MG|  Piumhi|        51503|Aplicativo Móvel| VIVO|Oferta, Bônus, Pr...|\n",
      "+----+---+---+--------+-------------+----------------+-----+--------------------+\n",
      "only showing top 3 rows\n",
      "\n"
     ]
    },
    {
     "name": "stderr",
     "output_type": "stream",
     "text": [
      "                                                                                \r"
     ]
    }
   ],
   "source": [
    "reclamacao.show(3)"
   ]
  },
  {
   "cell_type": "code",
   "execution_count": 6,
   "id": "e145223c-abec-419b-bfd0-51a69c65fb07",
   "metadata": {},
   "outputs": [
    {
     "data": {
      "text/plain": [
       "DataFrame[ano: int, mes: int, uf: string, cidade: string, cod_municipio: int, canal: string, marca: string, assunto: string]"
      ]
     },
     "execution_count": 6,
     "metadata": {},
     "output_type": "execute_result"
    }
   ],
   "source": [
    "reclamacao.dropna()"
   ]
  },
  {
   "cell_type": "code",
   "execution_count": 46,
   "id": "fa39008c-91da-45d9-b8cc-ea066d44bf0e",
   "metadata": {},
   "outputs": [
    {
     "name": "stdout",
     "output_type": "stream",
     "text": [
      "+-----+---+---+-----+\n",
      "|marca|mes| uf|count|\n",
      "+-----+---+---+-----+\n",
      "|CLARO|  1| SP| 9560|\n",
      "|CLARO|  2| SP| 8660|\n",
      "|CLARO|  3| SP| 9820|\n",
      "|CLARO|  4| SP| 9536|\n",
      "|CLARO|  5| SP| 9493|\n",
      "|CLARO|  6| SP| 8248|\n",
      "|CLARO|  7| SP| 8951|\n",
      "|CLARO|  8| SP| 9409|\n",
      "|CLARO|  9| SP| 8020|\n",
      "|CLARO| 10| SP| 8647|\n",
      "|CLARO| 11| SP| 8747|\n",
      "|CLARO| 12| SP|11025|\n",
      "|   OI|  1| SP| 3273|\n",
      "|   OI|  2| SP| 2596|\n",
      "|   OI|  3| SP| 2978|\n",
      "|   OI|  4| SP| 2904|\n",
      "|   OI|  5| SP| 3008|\n",
      "|   OI|  6| SP| 2562|\n",
      "|   OI|  7| SP| 2640|\n",
      "|   OI|  8| SP| 3021|\n",
      "+-----+---+---+-----+\n",
      "only showing top 20 rows\n",
      "\n"
     ]
    }
   ],
   "source": [
    "recmes = reclamacao.groupBy('marca','mes','uf') \\\n",
    "    .count().orderBy('marca','mes')\n",
    "recmes.filter(col('uf')=='SP').show() "
   ]
  }
 ],
 "metadata": {
  "kernelspec": {
   "display_name": "Python 3",
   "language": "python",
   "name": "python3"
  },
  "language_info": {
   "codemirror_mode": {
    "name": "ipython",
    "version": 3
   },
   "file_extension": ".py",
   "mimetype": "text/x-python",
   "name": "python",
   "nbconvert_exporter": "python",
   "pygments_lexer": "ipython3",
   "version": "3.8.12"
  }
 },
 "nbformat": 4,
 "nbformat_minor": 5
}