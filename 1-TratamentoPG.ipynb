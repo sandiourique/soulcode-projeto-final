{
 "cells": [
  {
   "cell_type": "code",
   "execution_count": 1,
   "id": "68070225-50ff-4195-897d-97bc3078eae6",
   "metadata": {},
   "outputs": [
    {
     "name": "stdout",
     "output_type": "stream",
     "text": [
      "35.247.249.65"
     ]
    }
   ],
   "source": [
    "!curl ifconfig.me"
   ]
  },
  {
   "cell_type": "code",
   "execution_count": null,
   "id": "11d40729-d704-4f4b-b612-1f14ab8b9d42",
   "metadata": {},
   "outputs": [],
   "source": [
    "from pyspark.sql import SparkSession, DataFrame\n",
    "from pyspark.sql.functions import *\n",
    "from pyspark.sql.types import *\n",
    "from functools import reduce\n",
    "import numpy as np\n",
    "import re"
   ]
  },
  {
   "cell_type": "code",
   "execution_count": 2,
   "id": "38564d90-11de-4da4-8626-6a9c041214e0",
   "metadata": {},
   "outputs": [],
   "source": [
    "import os\n",
    "os.environ['PYSPARK_SUBMIT_ARGS'] = \\\n",
    "'--jars gs://scriptsnatalsoul/postgresql-42.3.1.jar pyspark-shell'\n"
   ]
  },
  {
   "cell_type": "code",
   "execution_count": 3,
   "id": "f56e3ea3-fac3-4d69-aecb-b02f071c5f23",
   "metadata": {},
   "outputs": [
    {
     "name": "stderr",
     "output_type": "stream",
     "text": [
      "Setting default log level to \"WARN\".\n",
      "To adjust logging level use sc.setLogLevel(newLevel). For SparkR, use setLogLevel(newLevel).\n"
     ]
    },
    {
     "data": {
      "text/html": [
       "\n",
       "            <div>\n",
       "                <p><b>SparkSession - hive</b></p>\n",
       "                \n",
       "        <div>\n",
       "            <p><b>SparkContext</b></p>\n",
       "\n",
       "            <p><a href=\"http://cluster-3fbd-m.southamerica-east1-a.c.sixth-pager-337021.internal:45907\">Spark UI</a></p>\n",
       "\n",
       "            <dl>\n",
       "              <dt>Version</dt>\n",
       "                <dd><code>v3.1.2</code></dd>\n",
       "              <dt>Master</dt>\n",
       "                <dd><code>yarn</code></dd>\n",
       "              <dt>AppName</dt>\n",
       "                <dd><code>InserindoMysql</code></dd>\n",
       "            </dl>\n",
       "        </div>\n",
       "        \n",
       "            </div>\n",
       "        "
      ],
      "text/plain": [
       "<pyspark.sql.session.SparkSession at 0x7fed6fcf09a0>"
      ]
     },
     "execution_count": 3,
     "metadata": {},
     "output_type": "execute_result"
    }
   ],
   "source": [
    "spark = SparkSession.builder.appName('InserindoMysql')\\\n",
    ".config('spark.sql.caseSensitive','True')\\\n",
    ".getOrCreate()\n",
    "spark"
   ]
  },
  {
   "cell_type": "code",
   "execution_count": 4,
   "id": "fc4d7fc7-d5c5-4e57-a634-a6459f3d4487",
   "metadata": {},
   "outputs": [],
   "source": [
    "url = '34.134.31.72'\n",
    "db = 'telecomunicacoes'\n",
    "port = '5432'\n",
    "user = 'postgres'\n",
    "password = 'Ox95F1eyft7LPBeN'"
   ]
  },
  {
   "cell_type": "code",
   "execution_count": 5,
   "id": "9436f147-72c6-4b62-9c58-3095735f6f41",
   "metadata": {},
   "outputs": [],
   "source": [
    "def loadData(table:str):\n",
    "        df = spark.read \\\n",
    "        .format(\"jdbc\") \\\n",
    "        .option(\"numPartitions\", \"4\") \\\n",
    "        .option(\"fetchsize\", \"50000\") \\\n",
    "        .option(\"url\", f\"jdbc:postgresql://{url}:{port}/{db}\") \\\n",
    "        .option(\"dbtable\", table) \\\n",
    "        .option(\"driver\", \"org.postgresql.Driver\") \\\n",
    "        .option(\"user\", user) \\\n",
    "        .option(\"password\", password) \\\n",
    "        .load()\n",
    "        return df"
   ]
  },
  {
   "cell_type": "markdown",
   "id": "ba5b936e-9bbf-43b2-a43c-557215a4e4e6",
   "metadata": {},
   "source": [
    "## --> 1. Tratamento de **dados_ibge**"
   ]
  },
  {
   "cell_type": "code",
   "execution_count": 6,
   "id": "73e51097-f05b-4a95-b329-8699987258b0",
   "metadata": {},
   "outputs": [
    {
     "name": "stdout",
     "output_type": "stream",
     "text": [
      "root\n",
      " |-- ano: integer (nullable = true)\n",
      " |-- id_municipio: integer (nullable = true)\n",
      " |-- pib: long (nullable = true)\n",
      " |-- impostos_liquidos: long (nullable = true)\n",
      " |-- va: long (nullable = true)\n",
      " |-- va_agropecuaria: long (nullable = true)\n",
      " |-- va_industria: long (nullable = true)\n",
      " |-- va_servicos: long (nullable = true)\n",
      " |-- va_adespss: long (nullable = true)\n",
      "\n"
     ]
    }
   ],
   "source": [
    "dados_ibge = loadData('dados_ibge')\n",
    "dados_ibge.printSchema()"
   ]
  },
  {
   "cell_type": "code",
   "execution_count": 7,
   "id": "4f51b8dc-90d7-41cd-8ea1-2f0965ed2cef",
   "metadata": {},
   "outputs": [
    {
     "name": "stderr",
     "output_type": "stream",
     "text": [
      "                                                                                \r"
     ]
    },
    {
     "name": "stdout",
     "output_type": "stream",
     "text": [
      "numero de entradas -> 94616\n"
     ]
    },
    {
     "name": "stderr",
     "output_type": "stream",
     "text": [
      "[Stage 3:>                                                          (0 + 1) / 1]\r"
     ]
    },
    {
     "name": "stdout",
     "output_type": "stream",
     "text": [
      "+---+------------+---+-----------------+---+---------------+------------+-----------+----------+\n",
      "|ano|id_municipio|pib|impostos_liquidos| va|va_agropecuaria|va_industria|va_servicos|va_adespss|\n",
      "+---+------------+---+-----------------+---+---------------+------------+-----------+----------+\n",
      "|  0|           0|  0|                0|  0|              0|           0|          0|         0|\n",
      "+---+------------+---+-----------------+---+---------------+------------+-----------+----------+\n",
      "\n"
     ]
    },
    {
     "name": "stderr",
     "output_type": "stream",
     "text": [
      "                                                                                \r"
     ]
    }
   ],
   "source": [
    "print('numero de entradas ->',dados_ibge.count())\n",
    "dados_ibge.select([count(when(isnan(c),c)).alias(c)for c in dados_ibge.columns]).show()"
   ]
  },
  {
   "cell_type": "code",
   "execution_count": 8,
   "id": "0655a82f-565e-4b55-869f-673cfabc75fd",
   "metadata": {},
   "outputs": [
    {
     "name": "stderr",
     "output_type": "stream",
     "text": [
      "[Stage 6:>                                                          (0 + 1) / 1]\r"
     ]
    },
    {
     "name": "stdout",
     "output_type": "stream",
     "text": [
      "+----+------------+---------+-----------------+---------+---------------+------------+-----------+----------+\n",
      "| ano|id_municipio|      pib|impostos_liquidos|       va|va_agropecuaria|va_industria|va_servicos|va_adespss|\n",
      "+----+------------+---------+-----------------+---------+---------------+------------+-----------+----------+\n",
      "|2002|     1100015|111290995|          7549266|103741729|       27013223|     9376871|   24651113|  42700523|\n",
      "|2003|     1100015|143222381|         10511613|132710768|       41079095|    12700905|   32975861|  45954907|\n",
      "|2004|     1100015|173990790|         12219047|161771743|       41413428|    29963081|   39089592|  51305642|\n",
      "+----+------------+---------+-----------------+---------+---------------+------------+-----------+----------+\n",
      "only showing top 3 rows\n",
      "\n"
     ]
    },
    {
     "name": "stderr",
     "output_type": "stream",
     "text": [
      "                                                                                \r"
     ]
    }
   ],
   "source": [
    "dados_ibge.show(3)"
   ]
  },
  {
   "cell_type": "code",
   "execution_count": 9,
   "id": "1f58af0b-9fe6-4382-b93a-1b7ce856bfb6",
   "metadata": {},
   "outputs": [
    {
     "name": "stderr",
     "output_type": "stream",
     "text": [
      "                                                                                \r"
     ]
    },
    {
     "name": "stdout",
     "output_type": "stream",
     "text": [
      "numero de entradas -> 11140\n"
     ]
    },
    {
     "name": "stderr",
     "output_type": "stream",
     "text": [
      "[Stage 10:>                                                         (0 + 1) / 1]\r"
     ]
    },
    {
     "name": "stdout",
     "output_type": "stream",
     "text": [
      "+----+-------+------------+-----+-------------+\n",
      "| ano|id_ibge|id_municipio|id_uf|pib_municipio|\n",
      "+----+-------+------------+-----+-------------+\n",
      "|2017|1100015|          15|   11|    485374332|\n",
      "|2018|1100015|          15|   11|    499305982|\n",
      "|2017|1100023|          23|   11|   2287910379|\n",
      "+----+-------+------------+-----+-------------+\n",
      "only showing top 3 rows\n",
      "\n"
     ]
    },
    {
     "name": "stderr",
     "output_type": "stream",
     "text": [
      "                                                                                \r"
     ]
    }
   ],
   "source": [
    "DFdi = dados_ibge.select(col('ano'),\n",
    "                        col('id_municipio').alias('id_ibge'),\n",
    "                        regexp_replace('id_municipio', r\"(^.{1,2})\" , \"\").alias('id_municipio').cast(IntegerType()),\n",
    "                        substring('id_municipio',0,2).alias('id_uf').cast(IntegerType()),\n",
    "                        col('pib').alias('pib_municipio')).filter( (col('ano') == 2017) | (col('ano') == 2018) )\n",
    "print('numero de entradas ->',DFdi.count())\n",
    "DFdi.show(3)"
   ]
  },
  {
   "cell_type": "code",
   "execution_count": 10,
   "id": "11ff5889-18fe-4a8b-87ff-232afb3bf46f",
   "metadata": {},
   "outputs": [
    {
     "name": "stdout",
     "output_type": "stream",
     "text": [
      "root\n",
      " |-- ano: integer (nullable = true)\n",
      " |-- id_ibge: integer (nullable = true)\n",
      " |-- id_municipio: integer (nullable = true)\n",
      " |-- id_uf: integer (nullable = true)\n",
      " |-- pib_municipio: long (nullable = true)\n",
      "\n"
     ]
    }
   ],
   "source": [
    "DFdi.printSchema()"
   ]
  },
  {
   "cell_type": "markdown",
   "id": "c796f1f8-d75e-424a-8562-b34e879e89ba",
   "metadata": {},
   "source": [
    "## --> 2. Tratamento de **cidades_ibge**"
   ]
  },
  {
   "cell_type": "code",
   "execution_count": 11,
   "id": "840a3af5-0856-4e7d-8bec-8dfeb766797a",
   "metadata": {},
   "outputs": [
    {
     "name": "stdout",
     "output_type": "stream",
     "text": [
      "root\n",
      " |-- UF: string (nullable = true)\n",
      " |-- COD__UF: integer (nullable = true)\n",
      " |-- COD__MUNIC: integer (nullable = true)\n",
      " |-- NOME_DO_MUNIC_PIO: string (nullable = true)\n",
      " |-- _POPULA__O_ESTIMADA_: string (nullable = true)\n",
      "\n"
     ]
    }
   ],
   "source": [
    "cidades_ibge = loadData('cidades_ibge')\n",
    "cidades_ibge.printSchema()"
   ]
  },
  {
   "cell_type": "code",
   "execution_count": 12,
   "id": "49051c67-553d-4554-bd3d-0f371a923df3",
   "metadata": {},
   "outputs": [
    {
     "name": "stderr",
     "output_type": "stream",
     "text": [
      "                                                                                \r"
     ]
    },
    {
     "name": "stdout",
     "output_type": "stream",
     "text": [
      "numero de entradas -> 5571\n"
     ]
    },
    {
     "name": "stderr",
     "output_type": "stream",
     "text": [
      "[Stage 14:>                                                         (0 + 1) / 1]\r"
     ]
    },
    {
     "name": "stdout",
     "output_type": "stream",
     "text": [
      "+---+-------+----------+-----------------+--------------------+\n",
      "| UF|COD__UF|COD__MUNIC|NOME_DO_MUNIC_PIO|_POPULA__O_ESTIMADA_|\n",
      "+---+-------+----------+-----------------+--------------------+\n",
      "|  0|      0|         0|                0|                   0|\n",
      "+---+-------+----------+-----------------+--------------------+\n",
      "\n"
     ]
    },
    {
     "name": "stderr",
     "output_type": "stream",
     "text": [
      "                                                                                \r"
     ]
    }
   ],
   "source": [
    "print('numero de entradas ->',cidades_ibge.count())\n",
    "cidades_ibge.select([count(when(isnan(c),c)).alias(c)for c in cidades_ibge.columns]).show()"
   ]
  },
  {
   "cell_type": "code",
   "execution_count": 13,
   "id": "41377371-8169-4253-8727-f07751b4829d",
   "metadata": {},
   "outputs": [
    {
     "name": "stderr",
     "output_type": "stream",
     "text": [
      "                                                                                \r"
     ]
    },
    {
     "data": {
      "text/plain": [
       "5570"
      ]
     },
     "execution_count": 13,
     "metadata": {},
     "output_type": "execute_result"
    }
   ],
   "source": [
    "cidades_ibge = cidades_ibge.dropna()\n",
    "cidades_ibge.count()"
   ]
  },
  {
   "cell_type": "code",
   "execution_count": 14,
   "id": "6c1fa8b8-f743-4002-a26b-4eebb9f7e225",
   "metadata": {},
   "outputs": [
    {
     "name": "stderr",
     "output_type": "stream",
     "text": [
      "[Stage 20:>                                                         (0 + 1) / 1]\r"
     ]
    },
    {
     "name": "stdout",
     "output_type": "stream",
     "text": [
      "+---+-------+----------+--------------------+--------------------+-------+\n",
      "| UF|COD__UF|COD__MUNIC|   NOME_DO_MUNIC_PIO|_POPULA__O_ESTIMADA_|id_ibge|\n",
      "+---+-------+----------+--------------------+--------------------+-------+\n",
      "| RO|1100000|        15|Alta Floresta D'O...|              22.516|1100015|\n",
      "| RO|1100000|        23|           Ariquemes|             111.148|1100023|\n",
      "| RO|1100000|        31|              Cabixi|               5.067|1100031|\n",
      "+---+-------+----------+--------------------+--------------------+-------+\n",
      "only showing top 3 rows\n",
      "\n"
     ]
    },
    {
     "name": "stderr",
     "output_type": "stream",
     "text": [
      "                                                                                \r"
     ]
    }
   ],
   "source": [
    "cidades_ibge = cidades_ibge.withColumn(\"COD__UF\", (col('COD__UF')*100000))\n",
    "cidades_ibge = cidades_ibge.withColumn('id_ibge', (col('COD__UF')+col('COD__MUNIC')))\n",
    "DFci = cidades_ibge\n",
    "DFci.show(3)"
   ]
  },
  {
   "cell_type": "markdown",
   "id": "20162658-9d52-44cb-b3ba-8a96bbde36e0",
   "metadata": {},
   "source": [
    "## --> 3. Fusão das tabelas tratadas **cidades_ibge** e **dados_ibge**"
   ]
  },
  {
   "cell_type": "code",
   "execution_count": 15,
   "id": "e462fdec-d71d-4927-8454-0cadcdf4557b",
   "metadata": {},
   "outputs": [
    {
     "name": "stdout",
     "output_type": "stream",
     "text": [
      "  ['ano', 'id_ibge', 'id_municipio', 'id_uf', 'pib_municipio'] \n",
      "  ['UF', 'COD__UF', 'COD__MUNIC', 'NOME_DO_MUNIC_PIO', '_POPULA__O_ESTIMADA_', 'id_ibge']\n"
     ]
    }
   ],
   "source": [
    "print(' ',DFdi.columns,'\\n ',DFci.columns)"
   ]
  },
  {
   "cell_type": "code",
   "execution_count": 16,
   "id": "dd8a559a-696b-47e4-b956-243d8644edb6",
   "metadata": {},
   "outputs": [
    {
     "name": "stderr",
     "output_type": "stream",
     "text": [
      "                                                                                \r"
     ]
    },
    {
     "data": {
      "text/plain": [
       "11140"
      ]
     },
     "execution_count": 16,
     "metadata": {},
     "output_type": "execute_result"
    }
   ],
   "source": [
    "DFjoin = DFci.join(DFdi, ['id_ibge'], 'inner').drop(*['COD__MUNIC', 'COD__UF'])\n",
    "DFjoin.count()"
   ]
  },
  {
   "cell_type": "code",
   "execution_count": 17,
   "id": "6bb99695-ffec-4b6b-8901-44ea28d6ed23",
   "metadata": {},
   "outputs": [
    {
     "name": "stderr",
     "output_type": "stream",
     "text": [
      "                                                                                \r"
     ]
    },
    {
     "name": "stdout",
     "output_type": "stream",
     "text": [
      "+-------+---+-----------------+--------------------+----+------------+-----+-------------+\n",
      "|id_ibge| UF|NOME_DO_MUNIC_PIO|_POPULA__O_ESTIMADA_| ano|id_municipio|id_uf|pib_municipio|\n",
      "+-------+---+-----------------+--------------------+----+------------+-----+-------------+\n",
      "|1707405| TO|      Esperantina|              11.280|2018|        7405|   17|     89104956|\n",
      "|1707405| TO|      Esperantina|              11.280|2017|        7405|   17|     85646671|\n",
      "|1715705| TO|      Palmeirante|               6.234|2018|       15705|   17|     95872968|\n",
      "+-------+---+-----------------+--------------------+----+------------+-----+-------------+\n",
      "only showing top 3 rows\n",
      "\n"
     ]
    }
   ],
   "source": [
    "DFjoin.show(3)"
   ]
  },
  {
   "cell_type": "code",
   "execution_count": 18,
   "id": "6aab1a92-33db-4cfb-9ca2-ed9edbc804d4",
   "metadata": {},
   "outputs": [
    {
     "name": "stderr",
     "output_type": "stream",
     "text": [
      "                                                                                \r"
     ]
    },
    {
     "name": "stdout",
     "output_type": "stream",
     "text": [
      "numero de entradas -> 11140\n"
     ]
    },
    {
     "name": "stderr",
     "output_type": "stream",
     "text": [
      "                                                                                \r"
     ]
    },
    {
     "name": "stdout",
     "output_type": "stream",
     "text": [
      "+-------+---+-----------------+--------------------+---+------------+-----+-------------+\n",
      "|id_ibge| UF|NOME_DO_MUNIC_PIO|_POPULA__O_ESTIMADA_|ano|id_municipio|id_uf|pib_municipio|\n",
      "+-------+---+-----------------+--------------------+---+------------+-----+-------------+\n",
      "|      0|  0|                0|                   0|  0|           0|    0|            0|\n",
      "+-------+---+-----------------+--------------------+---+------------+-----+-------------+\n",
      "\n"
     ]
    }
   ],
   "source": [
    "print('numero de entradas ->',DFjoin.count())\n",
    "DFjoin.select([count(when(isnan(c),c)).alias(c)for c in DFjoin.columns]).show()"
   ]
  },
  {
   "cell_type": "code",
   "execution_count": 19,
   "id": "0a4ab649-73a9-48ec-b555-c63a38f946cc",
   "metadata": {},
   "outputs": [
    {
     "name": "stdout",
     "output_type": "stream",
     "text": [
      "root\n",
      " |-- id_ibge: integer (nullable = true)\n",
      " |-- UF: string (nullable = true)\n",
      " |-- NOME_DO_MUNIC_PIO: string (nullable = true)\n",
      " |-- _POPULA__O_ESTIMADA_: string (nullable = true)\n",
      " |-- ano: integer (nullable = true)\n",
      " |-- id_municipio: integer (nullable = true)\n",
      " |-- id_uf: integer (nullable = true)\n",
      " |-- pib_municipio: long (nullable = true)\n",
      "\n"
     ]
    }
   ],
   "source": [
    "DFjoin.printSchema()"
   ]
  },
  {
   "cell_type": "code",
   "execution_count": 20,
   "id": "c5d34400-9738-4c68-90e1-51e574ad6616",
   "metadata": {},
   "outputs": [
    {
     "name": "stderr",
     "output_type": "stream",
     "text": [
      "[Stage 54:>                 (0 + 1) / 1][Stage 55:>                 (0 + 1) / 1]\r"
     ]
    },
    {
     "name": "stdout",
     "output_type": "stream",
     "text": [
      "+-------+---+-----------------+--------------------+----+------------+-----+-------------+\n",
      "|id_ibge| UF|NOME_DO_MUNIC_PIO|_POPULA__O_ESTIMADA_| ano|id_municipio|id_uf|pib_municipio|\n",
      "+-------+---+-----------------+--------------------+----+------------+-----+-------------+\n",
      "|3522158| SP|           Itaoca|               3.332|2017|       22158|   35|     39835016|\n",
      "|3522158| SP|           Itaoca|               3.332|2018|       22158|   35|     41298592|\n",
      "|1707405| TO|      Esperantina|              11.280|2017|        7405|   17|     85646671|\n",
      "+-------+---+-----------------+--------------------+----+------------+-----+-------------+\n",
      "only showing top 3 rows\n",
      "\n"
     ]
    },
    {
     "name": "stderr",
     "output_type": "stream",
     "text": [
      "                                                                                \r"
     ]
    }
   ],
   "source": [
    "DFjoin.show(3)"
   ]
  },
  {
   "cell_type": "code",
   "execution_count": 21,
   "id": "c10d5e22-841b-4f9b-acc4-07a0dd3e2e2d",
   "metadata": {},
   "outputs": [],
   "source": [
    "DFjoin = DFjoin.select(DFjoin[0].alias('cod_ibge'),\n",
    "                DFjoin[1].alias('uf'),\n",
    "                DFjoin[2].alias('nome_municipio'),\n",
    "                regexp_replace(DFjoin[3], \"\\.\" , \"\").alias('populacao').cast(IntegerType()),                       \n",
    "                DFjoin[4],\n",
    "                DFjoin[5].alias('cod_municipio'),\n",
    "                DFjoin[6].alias('cod_uf'),\n",
    "                DFjoin[7].alias('pib_municipio'))"
   ]
  },
  {
   "cell_type": "code",
   "execution_count": 22,
   "id": "033dba5d-468f-4f2c-a714-7dd6216e7905",
   "metadata": {},
   "outputs": [
    {
     "name": "stderr",
     "output_type": "stream",
     "text": [
      "                                                                                \r"
     ]
    },
    {
     "name": "stdout",
     "output_type": "stream",
     "text": [
      "+--------+---+--------------+---------+----+-------------+------+-------------+\n",
      "|cod_ibge| uf|nome_municipio|populacao| ano|cod_municipio|cod_uf|pib_municipio|\n",
      "+--------+---+--------------+---------+----+-------------+------+-------------+\n",
      "| 3522158| SP|        Itaoca|     3332|2017|        22158|    35|     39835016|\n",
      "| 3522158| SP|        Itaoca|     3332|2018|        22158|    35|     41298592|\n",
      "| 1707405| TO|   Esperantina|    11280|2017|         7405|    17|     85646671|\n",
      "+--------+---+--------------+---------+----+-------------+------+-------------+\n",
      "only showing top 3 rows\n",
      "\n"
     ]
    }
   ],
   "source": [
    "DFjoin.show(3)"
   ]
  },
  {
   "cell_type": "code",
   "execution_count": 23,
   "id": "1c5fce91-67ac-4eed-b2e4-0cbac191e0db",
   "metadata": {},
   "outputs": [
    {
     "name": "stdout",
     "output_type": "stream",
     "text": [
      "root\n",
      " |-- cod_ibge: integer (nullable = true)\n",
      " |-- uf: string (nullable = true)\n",
      " |-- nome_municipio: string (nullable = true)\n",
      " |-- populacao: integer (nullable = true)\n",
      " |-- ano: integer (nullable = true)\n",
      " |-- cod_municipio: integer (nullable = true)\n",
      " |-- cod_uf: integer (nullable = true)\n",
      " |-- pib_municipio: long (nullable = true)\n",
      "\n"
     ]
    }
   ],
   "source": [
    "DFjoin.printSchema()"
   ]
  },
  {
   "cell_type": "code",
   "execution_count": 24,
   "id": "302ea885-b6a3-42df-ad3f-88a9a9410a83",
   "metadata": {},
   "outputs": [
    {
     "name": "stderr",
     "output_type": "stream",
     "text": [
      "                                                                                \r"
     ]
    }
   ],
   "source": [
    "DFjoin.write.mode(\"overwrite\").parquet('gs://parquetcassandranatalsoul/Dados_ibge')"
   ]
  },
  {
   "cell_type": "markdown",
   "id": "ca5a217b-f442-42a7-9356-f7baa20a5e54",
   "metadata": {},
   "source": [
    "## --> 3. Tratamento de dados de qualidade"
   ]
  },
  {
   "cell_type": "code",
   "execution_count": 25,
   "id": "92dffe2f-de22-4a00-acc7-fd8684b51063",
   "metadata": {},
   "outputs": [],
   "source": [
    "qualidade = loadData('qualidade')"
   ]
  },
  {
   "cell_type": "code",
   "execution_count": 26,
   "id": "a9af385c-0aa3-47c6-930c-ccfc2278d976",
   "metadata": {},
   "outputs": [
    {
     "name": "stderr",
     "output_type": "stream",
     "text": [
      "[Stage 72:>                                                         (0 + 1) / 1]\r"
     ]
    },
    {
     "name": "stdout",
     "output_type": "stream",
     "text": [
      "+---------------+----------------+---------------+-------+----------------+-------------+---+----------------------------+---------+-----------------+-----------------+-------+----+------------------+----------+----------+-------+---+---+-----+---------+\n",
      "|        Servi_o|Sigla_do_Servi_o|Tipo_de_Outorga|Empresa|    Raz_o_Social|         CNPJ| UF|_rea_de_C_lculo_do_Indicador|Indicador|Per_odo_de_Coleta|Meta_do_Indicador|M_s_Ano| Ano|Grupo_do_Indicador|Resultados|Descumpriu|Cumpriu| NO| NI|Total|Normativo|\n",
      "+---------------+----------------+---------------+-------+----------------+-------------+---+----------------------------+---------+-----------------+-----------------+-------+----+------------------+----------+----------+-------+---+---+-----+---------+\n",
      "|Telefonia Móvel|             SMP|    Autorização|    TIM|TIM CELULAR S.A.|4206050000180| SP|               Área do CN 18|    SMP12|           MENSAL|           >= 90%|      1|2018|       Atendimento|    53,28%|         1|      0|  0|  0|    1|RGQ - SMP|\n",
      "|Telefonia Móvel|             SMP|    Autorização|    TIM|TIM CELULAR S.A.|4206050000180| SP|               Área do CN 19|    SMP12|           MENSAL|           >= 90%|      1|2018|       Atendimento|    55,69%|         1|      0|  0|  0|    1|RGQ - SMP|\n",
      "|Telefonia Móvel|             SMP|    Autorização|    TIM|TIM CELULAR S.A.|4206050000180| RJ|               Área do CN 21|    SMP12|           MENSAL|           >= 90%|      1|2018|       Atendimento|    52,63%|         1|      0|  0|  0|    1|RGQ - SMP|\n",
      "+---------------+----------------+---------------+-------+----------------+-------------+---+----------------------------+---------+-----------------+-----------------+-------+----+------------------+----------+----------+-------+---+---+-----+---------+\n",
      "only showing top 3 rows\n",
      "\n"
     ]
    },
    {
     "name": "stderr",
     "output_type": "stream",
     "text": [
      "                                                                                \r"
     ]
    }
   ],
   "source": [
    "qualidade.show(3)"
   ]
  },
  {
   "cell_type": "code",
   "execution_count": 39,
   "id": "71380504-4793-47af-a39f-b13806e603f0",
   "metadata": {},
   "outputs": [
    {
     "name": "stdout",
     "output_type": "stream",
     "text": [
      "root\n",
      " |-- Servi_o: string (nullable = true)\n",
      " |-- Sigla_do_Servi_o: string (nullable = true)\n",
      " |-- Tipo_de_Outorga: string (nullable = true)\n",
      " |-- Empresa: string (nullable = true)\n",
      " |-- Raz_o_Social: string (nullable = true)\n",
      " |-- CNPJ: long (nullable = true)\n",
      " |-- UF: string (nullable = true)\n",
      " |-- _rea_de_C_lculo_do_Indicador: string (nullable = true)\n",
      " |-- Indicador: string (nullable = true)\n",
      " |-- Per_odo_de_Coleta: string (nullable = true)\n",
      " |-- Meta_do_Indicador: string (nullable = true)\n",
      " |-- M_s_Ano: integer (nullable = true)\n",
      " |-- Ano: integer (nullable = true)\n",
      " |-- Grupo_do_Indicador: string (nullable = true)\n",
      " |-- Resultados: string (nullable = true)\n",
      " |-- Descumpriu: integer (nullable = true)\n",
      " |-- Cumpriu: integer (nullable = true)\n",
      " |-- NO: integer (nullable = true)\n",
      " |-- NI: integer (nullable = true)\n",
      " |-- Total: integer (nullable = true)\n",
      " |-- Normativo: string (nullable = true)\n",
      "\n"
     ]
    }
   ],
   "source": [
    "qualidade.printSchema()"
   ]
  },
  {
   "cell_type": "code",
   "execution_count": 41,
   "id": "16113335-e204-41b3-86de-2d275f88f90b",
   "metadata": {},
   "outputs": [
    {
     "name": "stderr",
     "output_type": "stream",
     "text": [
      "[Stage 89:>                                                         (0 + 1) / 1]\r"
     ]
    },
    {
     "name": "stdout",
     "output_type": "stream",
     "text": [
      "+---------------+-------+----+---+--------------+-------+----------+\n",
      "|        servico|empresa| ano| uf|meta_indicador|cumpriu|descumpriu|\n",
      "+---------------+-------+----+---+--------------+-------+----------+\n",
      "|Telefonia Móvel|    TIM|2018| SP|        >= 90%|      0|         1|\n",
      "|Telefonia Móvel|    TIM|2018| SP|        >= 90%|      0|         1|\n",
      "|Telefonia Móvel|    TIM|2018| RJ|        >= 90%|      0|         1|\n",
      "+---------------+-------+----+---+--------------+-------+----------+\n",
      "only showing top 3 rows\n",
      "\n"
     ]
    },
    {
     "name": "stderr",
     "output_type": "stream",
     "text": [
      "                                                                                \r"
     ]
    }
   ],
   "source": [
    "dfqld = qualidade.select(col('Servi_o').alias('servico'),\n",
    "                         col('Empresa').alias('empresa'),\n",
    "                         col('Ano').alias('ano'),\n",
    "                         col('UF').alias('uf'),\n",
    "                         col('Meta_do_Indicador').alias('meta_indicador'),\n",
    "                         col('Cumpriu').alias('cumpriu'),\n",
    "                         col('Descumpriu').alias('descumpriu'))\n",
    "dfqld.show(3)"
   ]
  },
  {
   "cell_type": "code",
   "execution_count": 42,
   "id": "1ea306dd-062d-4b3c-8a96-f154a1e2c9c0",
   "metadata": {},
   "outputs": [
    {
     "name": "stdout",
     "output_type": "stream",
     "text": [
      "root\n",
      " |-- servico: string (nullable = true)\n",
      " |-- empresa: string (nullable = true)\n",
      " |-- ano: integer (nullable = true)\n",
      " |-- uf: string (nullable = true)\n",
      " |-- meta_indicador: string (nullable = true)\n",
      " |-- cumpriu: integer (nullable = true)\n",
      " |-- descumpriu: integer (nullable = true)\n",
      "\n"
     ]
    }
   ],
   "source": [
    "dfqld.printSchema()"
   ]
  },
  {
   "cell_type": "code",
   "execution_count": 43,
   "id": "f341f326-308a-4cdb-ae1e-7de25b46134c",
   "metadata": {},
   "outputs": [
    {
     "name": "stderr",
     "output_type": "stream",
     "text": [
      "[Stage 90:>                                                         (0 + 1) / 1]\r"
     ]
    },
    {
     "name": "stdout",
     "output_type": "stream",
     "text": [
      "+---------------+-------+----+---+--------------+-------+----------+\n",
      "|        servico|empresa| ano| uf|meta_indicador|cumpriu|descumpriu|\n",
      "+---------------+-------+----+---+--------------+-------+----------+\n",
      "|Telefonia Móvel|    TIM|2018| SP|        >= 90%|      0|         1|\n",
      "|Telefonia Móvel|    TIM|2018| SP|        >= 90%|      0|         1|\n",
      "|Telefonia Móvel|    TIM|2018| RJ|        >= 90%|      0|         1|\n",
      "+---------------+-------+----+---+--------------+-------+----------+\n",
      "only showing top 3 rows\n",
      "\n"
     ]
    },
    {
     "name": "stderr",
     "output_type": "stream",
     "text": [
      "                                                                                \r"
     ]
    }
   ],
   "source": [
    "dfqld.show(3)"
   ]
  },
  {
   "cell_type": "code",
   "execution_count": 44,
   "id": "06eff535-674a-44f2-b46d-e75f285904d1",
   "metadata": {},
   "outputs": [
    {
     "name": "stderr",
     "output_type": "stream",
     "text": [
      "[Stage 91:>                                                         (0 + 1) / 1]\r"
     ]
    },
    {
     "name": "stdout",
     "output_type": "stream",
     "text": [
      "+-------+-------+---+---+--------------+-------+----------+\n",
      "|servico|empresa|ano| uf|meta_indicador|cumpriu|descumpriu|\n",
      "+-------+-------+---+---+--------------+-------+----------+\n",
      "|      0|      0|  0|  0|             0|      0|         0|\n",
      "+-------+-------+---+---+--------------+-------+----------+\n",
      "\n"
     ]
    },
    {
     "name": "stderr",
     "output_type": "stream",
     "text": [
      "                                                                                \r"
     ]
    }
   ],
   "source": [
    "dfqld.select([count(when(isnan(c),c)).alias(c)for c in dfqld.columns]).show()"
   ]
  },
  {
   "cell_type": "code",
   "execution_count": 45,
   "id": "07972493-facf-45ef-ae5e-a682a6b523a9",
   "metadata": {},
   "outputs": [
    {
     "name": "stdout",
     "output_type": "stream",
     "text": [
      "root\n",
      " |-- servico: string (nullable = true)\n",
      " |-- empresa: string (nullable = true)\n",
      " |-- ano: integer (nullable = true)\n",
      " |-- uf: string (nullable = true)\n",
      " |-- meta_indicador: string (nullable = true)\n",
      " |-- cumpriu: integer (nullable = true)\n",
      " |-- descumpriu: integer (nullable = true)\n",
      "\n"
     ]
    }
   ],
   "source": [
    "dfqld.printSchema()"
   ]
  },
  {
   "cell_type": "code",
   "execution_count": 47,
   "id": "c35bec23-beaa-49ab-b9a5-5f649d2b678c",
   "metadata": {},
   "outputs": [
    {
     "name": "stderr",
     "output_type": "stream",
     "text": [
      "                                                                                \r"
     ]
    }
   ],
   "source": [
    "dfqld.write.mode(\"overwrite\").parquet('gs://parquetcassandranatalsoul/Qualidade')"
   ]
  },
  {
   "cell_type": "markdown",
   "id": "0128ac2c-d79c-4cc3-a6be-c06aa854d9cc",
   "metadata": {},
   "source": [
    "## --> 4. Tratamento de dados de cobertura"
   ]
  },
  {
   "cell_type": "code",
   "execution_count": 48,
   "id": "1c75be80-ade1-4ae8-8f33-f3daae18e568",
   "metadata": {},
   "outputs": [],
   "source": [
    "cobertura_operadoras = loadData('cobertura_operadoras')"
   ]
  },
  {
   "cell_type": "code",
   "execution_count": 49,
   "id": "b7f2b73a-baed-4f90-90e8-922af54a11ae",
   "metadata": {},
   "outputs": [
    {
     "name": "stderr",
     "output_type": "stream",
     "text": [
      "[Stage 95:>                                                         (0 + 1) / 1]\r"
     ]
    },
    {
     "name": "stdout",
     "output_type": "stream",
     "text": [
      "+----+---------+----------+-----+------+-------------+---+------+----------+---------+--------------------+\n",
      "| ano|operadora|tecnologia|setor|cod_uf|cod_municipio| uf|regiao|domicilios|moradores|percentual_cobertura|\n",
      "+----+---------+----------+-----+------+-------------+---+------+----------+---------+--------------------+\n",
      "|2021|     VIVO|        3G|Rural|    43|         5835| RS|   Sul|        30|       92|    61,4077393188376|\n",
      "|2021|     VIVO|        3G|Rural|    43|         5934| RS|   Sul|        47|      151|   0,456767597340707|\n",
      "|2021|     VIVO|        4G|Rural|    43|         5934| RS|   Sul|        78|      248|5,91976401546683E-02|\n",
      "+----+---------+----------+-----+------+-------------+---+------+----------+---------+--------------------+\n",
      "only showing top 3 rows\n",
      "\n"
     ]
    },
    {
     "name": "stderr",
     "output_type": "stream",
     "text": [
      "                                                                                \r"
     ]
    }
   ],
   "source": [
    "dfco = cobertura_operadoras.select(col('Ano').alias('ano'), \n",
    "                                    col('Operadora').alias('operadora'),\n",
    "                                    col('Tecnologia').alias('tecnologia'),\n",
    "                                    col('Tipo_Setor').alias('setor'),\n",
    "                                    substring(\"C_digo_Munic_pio\",0,2).alias('cod_uf').cast(IntegerType()),\n",
    "                                    regexp_replace(\"C_digo_Munic_pio\", r\"(^.{1,2})\" , \"\").alias('cod_municipio').cast(IntegerType()),\n",
    "                                    col('UF').alias('uf'),\n",
    "                                    col('Regi_o').alias('regiao'),\n",
    "                                    col('Domic_lios').alias('domicilios'),\n",
    "                                    col('Moradores').alias('moradores'),\n",
    "                                    col('Percentual_Cobertura').alias('percentual_cobertura'))\n",
    "dfco.show(3)"
   ]
  },
  {
   "cell_type": "code",
   "execution_count": 50,
   "id": "68735fd3-09ae-4283-bee4-43d2c10fed60",
   "metadata": {},
   "outputs": [
    {
     "name": "stdout",
     "output_type": "stream",
     "text": [
      "root\n",
      " |-- ano: integer (nullable = true)\n",
      " |-- operadora: string (nullable = true)\n",
      " |-- tecnologia: string (nullable = true)\n",
      " |-- setor: string (nullable = true)\n",
      " |-- cod_uf: integer (nullable = true)\n",
      " |-- cod_municipio: integer (nullable = true)\n",
      " |-- uf: string (nullable = true)\n",
      " |-- regiao: string (nullable = true)\n",
      " |-- domicilios: integer (nullable = true)\n",
      " |-- moradores: integer (nullable = true)\n",
      " |-- percentual_cobertura: string (nullable = true)\n",
      "\n"
     ]
    }
   ],
   "source": [
    "dfco.printSchema()"
   ]
  },
  {
   "cell_type": "code",
   "execution_count": 51,
   "id": "1ba75335-73a1-4536-b6c2-32d2b4f15f0b",
   "metadata": {},
   "outputs": [
    {
     "name": "stderr",
     "output_type": "stream",
     "text": [
      "                                                                                \r"
     ]
    }
   ],
   "source": [
    "dfco.write.mode(\"overwrite\").parquet('gs://parquetcassandranatalsoul/Cobertura')"
   ]
  },
  {
   "cell_type": "markdown",
   "id": "743170be-a35b-43ac-a30d-307136220e96",
   "metadata": {},
   "source": [
    "## --> 5. Tratamento de dados de reclamacoes"
   ]
  },
  {
   "cell_type": "code",
   "execution_count": 55,
   "id": "b1a00bdf-48fd-4d30-96ff-15e88782abe2",
   "metadata": {},
   "outputs": [
    {
     "name": "stdout",
     "output_type": "stream",
     "text": [
      "root\n",
      " |-- DataExtracao: string (nullable = true)\n",
      " |-- SOLICITA__ES: integer (nullable = true)\n",
      " |-- Ano: integer (nullable = true)\n",
      " |-- M_s: integer (nullable = true)\n",
      " |-- AnoM_s: string (nullable = true)\n",
      " |-- UF: string (nullable = true)\n",
      " |-- Cidade: string (nullable = true)\n",
      " |-- CO_MUNICIPIO: string (nullable = true)\n",
      " |-- CanalEntrada: string (nullable = true)\n",
      " |-- Condi__o: string (nullable = true)\n",
      " |-- TipoAtendimento: string (nullable = true)\n",
      " |-- Servi_o: string (nullable = true)\n",
      " |-- Marca: string (nullable = true)\n",
      " |-- Assunto: string (nullable = true)\n",
      " |-- Problema: string (nullable = true)\n",
      "\n"
     ]
    }
   ],
   "source": [
    "reclamacoes = loadData('reclamacoes')\n",
    "reclamacoes.printSchema()"
   ]
  },
  {
   "cell_type": "code",
   "execution_count": 64,
   "id": "e1640393-0bdb-4c13-8aa0-563f64fcf249",
   "metadata": {},
   "outputs": [],
   "source": [
    "dfrecl = reclamacoes.select(col('Ano').alias('ano'),\n",
    "                    col('M_s').alias('mes'),\n",
    "                    col('UF').alias('uf'),\n",
    "                    col('Cidade').alias('cidade'),\n",
    "                    regexp_replace(\"CO_MUNICIPIO\", r\"(^.{1,2})\" , \"\").alias('cod_municipio').cast(IntegerType()),\n",
    "                    col('CanalEntrada').alias('canal'),\n",
    "                    col('Marca').alias('marca'),\n",
    "                    col('Assunto').alias('assunto')).filter((col('Ano')==2017) |\n",
    "                          (col('Ano')==2018) |\n",
    "                          (col('marca')=='TIM') |\n",
    "                          (col('marca')=='OI'))\n"
   ]
  },
  {
   "cell_type": "code",
   "execution_count": 65,
   "id": "91094314-8a08-4669-973b-b488e3797c0d",
   "metadata": {},
   "outputs": [
    {
     "name": "stdout",
     "output_type": "stream",
     "text": [
      "root\n",
      " |-- ano: integer (nullable = true)\n",
      " |-- mes: integer (nullable = true)\n",
      " |-- uf: string (nullable = true)\n",
      " |-- cidade: string (nullable = true)\n",
      " |-- cod_municipio: integer (nullable = true)\n",
      " |-- canal: string (nullable = true)\n",
      " |-- marca: string (nullable = true)\n",
      " |-- assunto: string (nullable = true)\n",
      "\n"
     ]
    }
   ],
   "source": [
    "dfrecl.printSchema()"
   ]
  },
  {
   "cell_type": "code",
   "execution_count": 66,
   "id": "248b4af9-e8ea-4bcf-8690-a800a7b3bec2",
   "metadata": {},
   "outputs": [
    {
     "name": "stderr",
     "output_type": "stream",
     "text": [
      "                                                                                \r"
     ]
    },
    {
     "data": {
      "text/plain": [
       "15952407"
      ]
     },
     "execution_count": 66,
     "metadata": {},
     "output_type": "execute_result"
    }
   ],
   "source": [
    "dfrecl.count()"
   ]
  },
  {
   "cell_type": "code",
   "execution_count": 67,
   "id": "ecddafa3-bfb6-4a15-8806-a92d4bab95d1",
   "metadata": {},
   "outputs": [
    {
     "name": "stderr",
     "output_type": "stream",
     "text": [
      "                                                                                \r"
     ]
    }
   ],
   "source": [
    "dfrecl.write.mode(\"overwrite\").parquet('gs://parquetcassandranatalsoul/Reclamacao')"
   ]
  }
 ],
 "metadata": {
  "kernelspec": {
   "display_name": "Python 3",
   "language": "python",
   "name": "python3"
  },
  "language_info": {
   "codemirror_mode": {
    "name": "ipython",
    "version": 3
   },
   "file_extension": ".py",
   "mimetype": "text/x-python",
   "name": "python",
   "nbconvert_exporter": "python",
   "pygments_lexer": "ipython3",
   "version": "3.8.12"
  }
 },
 "nbformat": 4,
 "nbformat_minor": 5
}